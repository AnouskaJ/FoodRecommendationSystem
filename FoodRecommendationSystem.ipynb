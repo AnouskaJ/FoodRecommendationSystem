{
  "nbformat": 4,
  "nbformat_minor": 0,
  "metadata": {
    "colab": {
      "provenance": []
    },
    "kernelspec": {
      "name": "python3",
      "display_name": "Python 3"
    },
    "language_info": {
      "name": "python"
    }
  },
  "cells": [
    {
      "cell_type": "markdown",
      "source": [
        "# **Food Recommendation System**\n",
        "Recommendation of the 5 most similar dishes based on Cosine Similarity with a dish taken as input."
      ],
      "metadata": {
        "id": "69DwEDB_tOnh"
      }
    },
    {
      "cell_type": "code",
      "source": [
        "import pandas as pd\n",
        "import numpy as np\n",
        "from sklearn import preprocessing\n",
        "import matplotlib.pyplot as plt\n",
        "import seaborn as sns\n",
        "from sklearn.feature_extraction.text import TfidfVectorizer\n",
        "from sklearn.metrics.pairwise import linear_kernel\n",
        "from sklearn.feature_extraction.text import CountVectorizer\n",
        "from sklearn.metrics.pairwise import cosine_similarity\n",
        "from scipy.sparse import csr_matrix\n",
        "from sklearn.neighbors import NearestNeighbors\n",
        "import re\n",
        "import string"
      ],
      "metadata": {
        "id": "FQ4yF9OAttGM"
      },
      "execution_count": 53,
      "outputs": []
    },
    {
      "cell_type": "code",
      "source": [
        "from google.colab import drive\n",
        "drive.mount(\"/content/gdrive\")"
      ],
      "metadata": {
        "id": "jjtrZN_Yulyt",
        "outputId": "779c3433-12b8-4ed9-f79c-be0d395c84b7",
        "colab": {
          "base_uri": "https://localhost:8080/"
        }
      },
      "execution_count": null,
      "outputs": [
        {
          "output_type": "stream",
          "name": "stdout",
          "text": [
            "Mounted at /content/gdrive\n"
          ]
        }
      ]
    },
    {
      "cell_type": "code",
      "source": [
        "df = pd.read_csv('/content/gdrive/My Drive/FoodRecommendationSystem/1662574418893344.csv')\n",
        "df.head()"
      ],
      "metadata": {
        "colab": {
          "base_uri": "https://localhost:8080/",
          "height": 206
        },
        "id": "c8L-Laewt7oJ",
        "outputId": "077ad42e-85de-42d4-cad3-b33a42bfb360"
      },
      "execution_count": 4,
      "outputs": [
        {
          "output_type": "execute_result",
          "data": {
            "text/plain": [
              "   Food_ID                  Name        C_Type  Veg_Non  \\\n",
              "0        1   summer squash salad  Healthy Food      veg   \n",
              "1        2  chicken minced salad  Healthy Food  non-veg   \n",
              "2        3  sweet chilli almonds         Snack      veg   \n",
              "3        4       tricolour salad  Healthy Food      veg   \n",
              "4        5        christmas cake       Dessert      veg   \n",
              "\n",
              "                                            Describe  \n",
              "0  white balsamic vinegar, lemon juice, lemon rin...  \n",
              "1  olive oil, chicken mince, garlic (minced), oni...  \n",
              "2  almonds whole, egg white, curry leaves, salt, ...  \n",
              "3  vinegar, honey/sugar, soy sauce, salt, garlic ...  \n",
              "4  christmas dry fruits (pre-soaked), orange zest...  "
            ],
            "text/html": [
              "\n",
              "  <div id=\"df-b80558da-17a6-4846-8ea9-85980d7f70e9\">\n",
              "    <div class=\"colab-df-container\">\n",
              "      <div>\n",
              "<style scoped>\n",
              "    .dataframe tbody tr th:only-of-type {\n",
              "        vertical-align: middle;\n",
              "    }\n",
              "\n",
              "    .dataframe tbody tr th {\n",
              "        vertical-align: top;\n",
              "    }\n",
              "\n",
              "    .dataframe thead th {\n",
              "        text-align: right;\n",
              "    }\n",
              "</style>\n",
              "<table border=\"1\" class=\"dataframe\">\n",
              "  <thead>\n",
              "    <tr style=\"text-align: right;\">\n",
              "      <th></th>\n",
              "      <th>Food_ID</th>\n",
              "      <th>Name</th>\n",
              "      <th>C_Type</th>\n",
              "      <th>Veg_Non</th>\n",
              "      <th>Describe</th>\n",
              "    </tr>\n",
              "  </thead>\n",
              "  <tbody>\n",
              "    <tr>\n",
              "      <th>0</th>\n",
              "      <td>1</td>\n",
              "      <td>summer squash salad</td>\n",
              "      <td>Healthy Food</td>\n",
              "      <td>veg</td>\n",
              "      <td>white balsamic vinegar, lemon juice, lemon rin...</td>\n",
              "    </tr>\n",
              "    <tr>\n",
              "      <th>1</th>\n",
              "      <td>2</td>\n",
              "      <td>chicken minced salad</td>\n",
              "      <td>Healthy Food</td>\n",
              "      <td>non-veg</td>\n",
              "      <td>olive oil, chicken mince, garlic (minced), oni...</td>\n",
              "    </tr>\n",
              "    <tr>\n",
              "      <th>2</th>\n",
              "      <td>3</td>\n",
              "      <td>sweet chilli almonds</td>\n",
              "      <td>Snack</td>\n",
              "      <td>veg</td>\n",
              "      <td>almonds whole, egg white, curry leaves, salt, ...</td>\n",
              "    </tr>\n",
              "    <tr>\n",
              "      <th>3</th>\n",
              "      <td>4</td>\n",
              "      <td>tricolour salad</td>\n",
              "      <td>Healthy Food</td>\n",
              "      <td>veg</td>\n",
              "      <td>vinegar, honey/sugar, soy sauce, salt, garlic ...</td>\n",
              "    </tr>\n",
              "    <tr>\n",
              "      <th>4</th>\n",
              "      <td>5</td>\n",
              "      <td>christmas cake</td>\n",
              "      <td>Dessert</td>\n",
              "      <td>veg</td>\n",
              "      <td>christmas dry fruits (pre-soaked), orange zest...</td>\n",
              "    </tr>\n",
              "  </tbody>\n",
              "</table>\n",
              "</div>\n",
              "      <button class=\"colab-df-convert\" onclick=\"convertToInteractive('df-b80558da-17a6-4846-8ea9-85980d7f70e9')\"\n",
              "              title=\"Convert this dataframe to an interactive table.\"\n",
              "              style=\"display:none;\">\n",
              "        \n",
              "  <svg xmlns=\"http://www.w3.org/2000/svg\" height=\"24px\"viewBox=\"0 0 24 24\"\n",
              "       width=\"24px\">\n",
              "    <path d=\"M0 0h24v24H0V0z\" fill=\"none\"/>\n",
              "    <path d=\"M18.56 5.44l.94 2.06.94-2.06 2.06-.94-2.06-.94-.94-2.06-.94 2.06-2.06.94zm-11 1L8.5 8.5l.94-2.06 2.06-.94-2.06-.94L8.5 2.5l-.94 2.06-2.06.94zm10 10l.94 2.06.94-2.06 2.06-.94-2.06-.94-.94-2.06-.94 2.06-2.06.94z\"/><path d=\"M17.41 7.96l-1.37-1.37c-.4-.4-.92-.59-1.43-.59-.52 0-1.04.2-1.43.59L10.3 9.45l-7.72 7.72c-.78.78-.78 2.05 0 2.83L4 21.41c.39.39.9.59 1.41.59.51 0 1.02-.2 1.41-.59l7.78-7.78 2.81-2.81c.8-.78.8-2.07 0-2.86zM5.41 20L4 18.59l7.72-7.72 1.47 1.35L5.41 20z\"/>\n",
              "  </svg>\n",
              "      </button>\n",
              "      \n",
              "  <style>\n",
              "    .colab-df-container {\n",
              "      display:flex;\n",
              "      flex-wrap:wrap;\n",
              "      gap: 12px;\n",
              "    }\n",
              "\n",
              "    .colab-df-convert {\n",
              "      background-color: #E8F0FE;\n",
              "      border: none;\n",
              "      border-radius: 50%;\n",
              "      cursor: pointer;\n",
              "      display: none;\n",
              "      fill: #1967D2;\n",
              "      height: 32px;\n",
              "      padding: 0 0 0 0;\n",
              "      width: 32px;\n",
              "    }\n",
              "\n",
              "    .colab-df-convert:hover {\n",
              "      background-color: #E2EBFA;\n",
              "      box-shadow: 0px 1px 2px rgba(60, 64, 67, 0.3), 0px 1px 3px 1px rgba(60, 64, 67, 0.15);\n",
              "      fill: #174EA6;\n",
              "    }\n",
              "\n",
              "    [theme=dark] .colab-df-convert {\n",
              "      background-color: #3B4455;\n",
              "      fill: #D2E3FC;\n",
              "    }\n",
              "\n",
              "    [theme=dark] .colab-df-convert:hover {\n",
              "      background-color: #434B5C;\n",
              "      box-shadow: 0px 1px 3px 1px rgba(0, 0, 0, 0.15);\n",
              "      filter: drop-shadow(0px 1px 2px rgba(0, 0, 0, 0.3));\n",
              "      fill: #FFFFFF;\n",
              "    }\n",
              "  </style>\n",
              "\n",
              "      <script>\n",
              "        const buttonEl =\n",
              "          document.querySelector('#df-b80558da-17a6-4846-8ea9-85980d7f70e9 button.colab-df-convert');\n",
              "        buttonEl.style.display =\n",
              "          google.colab.kernel.accessAllowed ? 'block' : 'none';\n",
              "\n",
              "        async function convertToInteractive(key) {\n",
              "          const element = document.querySelector('#df-b80558da-17a6-4846-8ea9-85980d7f70e9');\n",
              "          const dataTable =\n",
              "            await google.colab.kernel.invokeFunction('convertToInteractive',\n",
              "                                                     [key], {});\n",
              "          if (!dataTable) return;\n",
              "\n",
              "          const docLinkHtml = 'Like what you see? Visit the ' +\n",
              "            '<a target=\"_blank\" href=https://colab.research.google.com/notebooks/data_table.ipynb>data table notebook</a>'\n",
              "            + ' to learn more about interactive tables.';\n",
              "          element.innerHTML = '';\n",
              "          dataTable['output_type'] = 'display_data';\n",
              "          await google.colab.output.renderOutput(dataTable, element);\n",
              "          const docLink = document.createElement('div');\n",
              "          docLink.innerHTML = docLinkHtml;\n",
              "          element.appendChild(docLink);\n",
              "        }\n",
              "      </script>\n",
              "    </div>\n",
              "  </div>\n",
              "  "
            ]
          },
          "metadata": {},
          "execution_count": 4
        }
      ]
    },
    {
      "cell_type": "code",
      "source": [
        "# To find number of dishes in the dataset\n",
        "num_of_dishes = len(list(df['Name'].unique()))\n",
        "num_of_dishes"
      ],
      "metadata": {
        "id": "IIrE4NIkt-r-",
        "colab": {
          "base_uri": "https://localhost:8080/"
        },
        "outputId": "26b9d8b9-d37a-40c1-b1f0-59a83a123122"
      },
      "execution_count": 5,
      "outputs": [
        {
          "output_type": "execute_result",
          "data": {
            "text/plain": [
              "400"
            ]
          },
          "metadata": {},
          "execution_count": 5
        }
      ]
    },
    {
      "cell_type": "code",
      "source": [
        "# Categories\n",
        "cat = df['C_Type'].unique()\n",
        "cat"
      ],
      "metadata": {
        "colab": {
          "base_uri": "https://localhost:8080/"
        },
        "id": "ayRDYegLwwkr",
        "outputId": "836e6728-41eb-4fa2-d08d-61b4deaeda00"
      },
      "execution_count": 6,
      "outputs": [
        {
          "output_type": "execute_result",
          "data": {
            "text/plain": [
              "array(['Healthy Food', 'Snack', 'Dessert', 'Japanese', 'Indian', 'French',\n",
              "       'Mexican', 'Italian', 'Chinese', 'Beverage', 'Thai', 'Korean',\n",
              "       ' Korean', 'Vietnames', 'Nepalese', 'Spanish'], dtype=object)"
            ]
          },
          "metadata": {},
          "execution_count": 6
        }
      ]
    },
    {
      "cell_type": "code",
      "source": [
        "df.info()"
      ],
      "metadata": {
        "colab": {
          "base_uri": "https://localhost:8080/"
        },
        "id": "pbYkmDc2w3o7",
        "outputId": "7ef1cb4c-ae32-4255-8f1d-d366aeb3dd7f"
      },
      "execution_count": 7,
      "outputs": [
        {
          "output_type": "stream",
          "name": "stdout",
          "text": [
            "<class 'pandas.core.frame.DataFrame'>\n",
            "RangeIndex: 400 entries, 0 to 399\n",
            "Data columns (total 5 columns):\n",
            " #   Column    Non-Null Count  Dtype \n",
            "---  ------    --------------  ----- \n",
            " 0   Food_ID   400 non-null    int64 \n",
            " 1   Name      400 non-null    object\n",
            " 2   C_Type    400 non-null    object\n",
            " 3   Veg_Non   400 non-null    object\n",
            " 4   Describe  400 non-null    object\n",
            "dtypes: int64(1), object(4)\n",
            "memory usage: 15.8+ KB\n"
          ]
        }
      ]
    },
    {
      "cell_type": "code",
      "source": [
        "# Cleaning of description\n",
        "def cleaning(text):\n",
        "  text = text.lower()\n",
        "  text  = \"\".join([char for char in text if char not in string.punctuation])\n",
        "  return text"
      ],
      "metadata": {
        "id": "GadvN8ZaxKRR"
      },
      "execution_count": 32,
      "outputs": []
    },
    {
      "cell_type": "code",
      "source": [
        "df['Describe'] = df['Describe'].apply(cleaning)"
      ],
      "metadata": {
        "id": "Q6uqCbp5xSUi"
      },
      "execution_count": 33,
      "outputs": []
    },
    {
      "cell_type": "code",
      "source": [
        "# Duplicate Data\n",
        "df.duplicated().sum()"
      ],
      "metadata": {
        "colab": {
          "base_uri": "https://localhost:8080/"
        },
        "id": "xTIrkfhKxZsZ",
        "outputId": "91e79a3f-a087-497e-9cd6-91eb0dfd6271"
      },
      "execution_count": 34,
      "outputs": [
        {
          "output_type": "execute_result",
          "data": {
            "text/plain": [
              "0"
            ]
          },
          "metadata": {},
          "execution_count": 34
        }
      ]
    },
    {
      "cell_type": "code",
      "source": [
        "# Null Data\n",
        "df.isnull().sum()"
      ],
      "metadata": {
        "colab": {
          "base_uri": "https://localhost:8080/"
        },
        "id": "pjZKUb1lxd7L",
        "outputId": "ab7a0597-9bf2-4b36-a078-53cf7db0d1fa"
      },
      "execution_count": 35,
      "outputs": [
        {
          "output_type": "execute_result",
          "data": {
            "text/plain": [
              "Food_ID     0\n",
              "Name        0\n",
              "C_Type      0\n",
              "Veg_Non     0\n",
              "Describe    0\n",
              "dtype: int64"
            ]
          },
          "metadata": {},
          "execution_count": 35
        }
      ]
    },
    {
      "cell_type": "markdown",
      "source": [
        "# **Content Based Filtering**\n",
        "Recommendation based on the Description of the dishes"
      ],
      "metadata": {
        "id": "iNhLmKv9xk1Q"
      }
    },
    {
      "cell_type": "code",
      "source": [
        "vect = TfidfVectorizer(stop_words='english')\n",
        "X = vect.fit_transform(df['Describe'])"
      ],
      "metadata": {
        "id": "hRKHuD8lxhZB"
      },
      "execution_count": 36,
      "outputs": []
    },
    {
      "cell_type": "code",
      "source": [
        "cosine_similarity = linear_kernel(X, X)\n",
        "cosine_similarity"
      ],
      "metadata": {
        "colab": {
          "base_uri": "https://localhost:8080/"
        },
        "id": "0Ak97x_Bx_7M",
        "outputId": "24f5a1f5-e6fd-4dbb-8a2a-0db39fef5210"
      },
      "execution_count": 37,
      "outputs": [
        {
          "output_type": "execute_result",
          "data": {
            "text/plain": [
              "array([[1.        , 0.16228366, 0.13001124, ..., 0.1286286 , 0.04277223,\n",
              "        0.09993639],\n",
              "       [0.16228366, 1.        , 0.06799336, ..., 0.14878001, 0.05688681,\n",
              "        0.16917639],\n",
              "       [0.13001124, 0.06799336, 1.        , ..., 0.03291577, 0.11795401,\n",
              "        0.01834168],\n",
              "       ...,\n",
              "       [0.1286286 , 0.14878001, 0.03291577, ..., 1.        , 0.        ,\n",
              "        0.10087579],\n",
              "       [0.04277223, 0.05688681, 0.11795401, ..., 0.        , 1.        ,\n",
              "        0.        ],\n",
              "       [0.09993639, 0.16917639, 0.01834168, ..., 0.10087579, 0.        ,\n",
              "        1.        ]])"
            ]
          },
          "metadata": {},
          "execution_count": 37
        }
      ]
    },
    {
      "cell_type": "code",
      "source": [
        "food_items = pd.Series(df.index, index=df['Name']).drop_duplicates()\n",
        "food_items"
      ],
      "metadata": {
        "colab": {
          "base_uri": "https://localhost:8080/"
        },
        "id": "4eMaXP7lygQQ",
        "outputId": "f5dbc7a6-efed-48a7-bbcb-c85a3b5eb02f"
      },
      "execution_count": 38,
      "outputs": [
        {
          "output_type": "execute_result",
          "data": {
            "text/plain": [
              "Name\n",
              "summer squash salad                                          0\n",
              "chicken minced salad                                         1\n",
              "sweet chilli almonds                                         2\n",
              "tricolour salad                                              3\n",
              "christmas cake                                               4\n",
              "                                                          ... \n",
              "Kimchi Toast                                               395\n",
              "Tacos de Gobernador (Shrimp, Poblano, and Cheese Tacos)    396\n",
              "Melted Broccoli Pasta With Capers and Anchovies            397\n",
              "Lemon-Ginger Cake with Pistachios                          398\n",
              "Rosemary Roasted Vegetables                                399\n",
              "Length: 400, dtype: int64"
            ]
          },
          "metadata": {},
          "execution_count": 38
        }
      ]
    },
    {
      "cell_type": "code",
      "source": [
        "def food_recommendations(title, cosine_sim=cosine_similarity):\n",
        "    food_index = food_items[title]\n",
        "    similarity_scores = list(enumerate(cosine_sim[food_index]))\n",
        "    similarity_scores = sorted(similarity_scores, key=lambda x: x[1], reverse=True)\n",
        "\n",
        "    # Scores for the five most similar dishes\n",
        "    # Index 0 is the dish itself\n",
        "    most_recommended_scores = similarity_scores[1:6]\n",
        "\n",
        "    most_recommended_dishes = [i[0] for i in most_recommended_scores]\n",
        "    return df['Name'].iloc[most_recommended_dishes]"
      ],
      "metadata": {
        "id": "UKm0zTiRyt00"
      },
      "execution_count": 39,
      "outputs": []
    },
    {
      "cell_type": "code",
      "source": [
        "food_recommendations('tricolour salad')"
      ],
      "metadata": {
        "colab": {
          "base_uri": "https://localhost:8080/"
        },
        "id": "L7cHrswK0VnA",
        "outputId": "db1d977a-3f3d-4f10-ad1c-44373c9da4b2"
      },
      "execution_count": 41,
      "outputs": [
        {
          "output_type": "execute_result",
          "data": {
            "text/plain": [
              "103             chilli chicken\n",
              "1         chicken minced salad\n",
              "27     vegetable som tam salad\n",
              "282          veg hakka noodles\n",
              "166             veg fried rice\n",
              "Name: Name, dtype: object"
            ]
          },
          "metadata": {},
          "execution_count": 41
        }
      ]
    },
    {
      "cell_type": "markdown",
      "source": [
        "# **Content Based Filtering: Advanced**\n",
        "Based on Category, Vegetarian/ Non-Vegetarian, Description"
      ],
      "metadata": {
        "id": "O9E7r-RAz8eC"
      }
    },
    {
      "cell_type": "code",
      "source": [
        "food_features = ['C_Type','Veg_Non', 'Describe']"
      ],
      "metadata": {
        "id": "yyXe5O0qzwVo"
      },
      "execution_count": 42,
      "outputs": []
    },
    {
      "cell_type": "code",
      "source": [
        "def features_column(x):\n",
        "    return x['C_Type'] + \" \" + x['Veg_Non'] + \" \" + x['Describe']"
      ],
      "metadata": {
        "id": "fT-lrUrz1QAZ"
      },
      "execution_count": 43,
      "outputs": []
    },
    {
      "cell_type": "code",
      "source": [
        "# Column with all the features to dataframe df\n",
        "df['features'] = df.apply(features_column, axis=1)"
      ],
      "metadata": {
        "id": "JRrolLPh1g-R"
      },
      "execution_count": 45,
      "outputs": []
    },
    {
      "cell_type": "code",
      "source": [
        "df.head()"
      ],
      "metadata": {
        "colab": {
          "base_uri": "https://localhost:8080/",
          "height": 206
        },
        "id": "ALZEel4H1oVd",
        "outputId": "f9c72bc7-96de-42a7-ea85-feee63b6d141"
      },
      "execution_count": 46,
      "outputs": [
        {
          "output_type": "execute_result",
          "data": {
            "text/plain": [
              "   Food_ID                  Name        C_Type  Veg_Non  \\\n",
              "0        1   summer squash salad  Healthy Food      veg   \n",
              "1        2  chicken minced salad  Healthy Food  non-veg   \n",
              "2        3  sweet chilli almonds         Snack      veg   \n",
              "3        4       tricolour salad  Healthy Food      veg   \n",
              "4        5        christmas cake       Dessert      veg   \n",
              "\n",
              "                                            Describe  \\\n",
              "0  white balsamic vinegar lemon juice lemon rind ...   \n",
              "1  olive oil chicken mince garlic minced onion sa...   \n",
              "2  almonds whole egg white curry leaves salt suga...   \n",
              "3  vinegar honeysugar soy sauce salt garlic clove...   \n",
              "4  christmas dry fruits presoaked orange zest lem...   \n",
              "\n",
              "                                            features  \n",
              "0  Healthy Food veg white balsamic vinegar lemon ...  \n",
              "1  Healthy Food non-veg olive oil chicken mince g...  \n",
              "2  Snack veg almonds whole egg white curry leaves...  \n",
              "3  Healthy Food veg vinegar honeysugar soy sauce ...  \n",
              "4  Dessert veg christmas dry fruits presoaked ora...  "
            ],
            "text/html": [
              "\n",
              "  <div id=\"df-fc21c71c-daa1-4a58-8224-29c466c3ab49\">\n",
              "    <div class=\"colab-df-container\">\n",
              "      <div>\n",
              "<style scoped>\n",
              "    .dataframe tbody tr th:only-of-type {\n",
              "        vertical-align: middle;\n",
              "    }\n",
              "\n",
              "    .dataframe tbody tr th {\n",
              "        vertical-align: top;\n",
              "    }\n",
              "\n",
              "    .dataframe thead th {\n",
              "        text-align: right;\n",
              "    }\n",
              "</style>\n",
              "<table border=\"1\" class=\"dataframe\">\n",
              "  <thead>\n",
              "    <tr style=\"text-align: right;\">\n",
              "      <th></th>\n",
              "      <th>Food_ID</th>\n",
              "      <th>Name</th>\n",
              "      <th>C_Type</th>\n",
              "      <th>Veg_Non</th>\n",
              "      <th>Describe</th>\n",
              "      <th>features</th>\n",
              "    </tr>\n",
              "  </thead>\n",
              "  <tbody>\n",
              "    <tr>\n",
              "      <th>0</th>\n",
              "      <td>1</td>\n",
              "      <td>summer squash salad</td>\n",
              "      <td>Healthy Food</td>\n",
              "      <td>veg</td>\n",
              "      <td>white balsamic vinegar lemon juice lemon rind ...</td>\n",
              "      <td>Healthy Food veg white balsamic vinegar lemon ...</td>\n",
              "    </tr>\n",
              "    <tr>\n",
              "      <th>1</th>\n",
              "      <td>2</td>\n",
              "      <td>chicken minced salad</td>\n",
              "      <td>Healthy Food</td>\n",
              "      <td>non-veg</td>\n",
              "      <td>olive oil chicken mince garlic minced onion sa...</td>\n",
              "      <td>Healthy Food non-veg olive oil chicken mince g...</td>\n",
              "    </tr>\n",
              "    <tr>\n",
              "      <th>2</th>\n",
              "      <td>3</td>\n",
              "      <td>sweet chilli almonds</td>\n",
              "      <td>Snack</td>\n",
              "      <td>veg</td>\n",
              "      <td>almonds whole egg white curry leaves salt suga...</td>\n",
              "      <td>Snack veg almonds whole egg white curry leaves...</td>\n",
              "    </tr>\n",
              "    <tr>\n",
              "      <th>3</th>\n",
              "      <td>4</td>\n",
              "      <td>tricolour salad</td>\n",
              "      <td>Healthy Food</td>\n",
              "      <td>veg</td>\n",
              "      <td>vinegar honeysugar soy sauce salt garlic clove...</td>\n",
              "      <td>Healthy Food veg vinegar honeysugar soy sauce ...</td>\n",
              "    </tr>\n",
              "    <tr>\n",
              "      <th>4</th>\n",
              "      <td>5</td>\n",
              "      <td>christmas cake</td>\n",
              "      <td>Dessert</td>\n",
              "      <td>veg</td>\n",
              "      <td>christmas dry fruits presoaked orange zest lem...</td>\n",
              "      <td>Dessert veg christmas dry fruits presoaked ora...</td>\n",
              "    </tr>\n",
              "  </tbody>\n",
              "</table>\n",
              "</div>\n",
              "      <button class=\"colab-df-convert\" onclick=\"convertToInteractive('df-fc21c71c-daa1-4a58-8224-29c466c3ab49')\"\n",
              "              title=\"Convert this dataframe to an interactive table.\"\n",
              "              style=\"display:none;\">\n",
              "        \n",
              "  <svg xmlns=\"http://www.w3.org/2000/svg\" height=\"24px\"viewBox=\"0 0 24 24\"\n",
              "       width=\"24px\">\n",
              "    <path d=\"M0 0h24v24H0V0z\" fill=\"none\"/>\n",
              "    <path d=\"M18.56 5.44l.94 2.06.94-2.06 2.06-.94-2.06-.94-.94-2.06-.94 2.06-2.06.94zm-11 1L8.5 8.5l.94-2.06 2.06-.94-2.06-.94L8.5 2.5l-.94 2.06-2.06.94zm10 10l.94 2.06.94-2.06 2.06-.94-2.06-.94-.94-2.06-.94 2.06-2.06.94z\"/><path d=\"M17.41 7.96l-1.37-1.37c-.4-.4-.92-.59-1.43-.59-.52 0-1.04.2-1.43.59L10.3 9.45l-7.72 7.72c-.78.78-.78 2.05 0 2.83L4 21.41c.39.39.9.59 1.41.59.51 0 1.02-.2 1.41-.59l7.78-7.78 2.81-2.81c.8-.78.8-2.07 0-2.86zM5.41 20L4 18.59l7.72-7.72 1.47 1.35L5.41 20z\"/>\n",
              "  </svg>\n",
              "      </button>\n",
              "      \n",
              "  <style>\n",
              "    .colab-df-container {\n",
              "      display:flex;\n",
              "      flex-wrap:wrap;\n",
              "      gap: 12px;\n",
              "    }\n",
              "\n",
              "    .colab-df-convert {\n",
              "      background-color: #E8F0FE;\n",
              "      border: none;\n",
              "      border-radius: 50%;\n",
              "      cursor: pointer;\n",
              "      display: none;\n",
              "      fill: #1967D2;\n",
              "      height: 32px;\n",
              "      padding: 0 0 0 0;\n",
              "      width: 32px;\n",
              "    }\n",
              "\n",
              "    .colab-df-convert:hover {\n",
              "      background-color: #E2EBFA;\n",
              "      box-shadow: 0px 1px 2px rgba(60, 64, 67, 0.3), 0px 1px 3px 1px rgba(60, 64, 67, 0.15);\n",
              "      fill: #174EA6;\n",
              "    }\n",
              "\n",
              "    [theme=dark] .colab-df-convert {\n",
              "      background-color: #3B4455;\n",
              "      fill: #D2E3FC;\n",
              "    }\n",
              "\n",
              "    [theme=dark] .colab-df-convert:hover {\n",
              "      background-color: #434B5C;\n",
              "      box-shadow: 0px 1px 3px 1px rgba(0, 0, 0, 0.15);\n",
              "      filter: drop-shadow(0px 1px 2px rgba(0, 0, 0, 0.3));\n",
              "      fill: #FFFFFF;\n",
              "    }\n",
              "  </style>\n",
              "\n",
              "      <script>\n",
              "        const buttonEl =\n",
              "          document.querySelector('#df-fc21c71c-daa1-4a58-8224-29c466c3ab49 button.colab-df-convert');\n",
              "        buttonEl.style.display =\n",
              "          google.colab.kernel.accessAllowed ? 'block' : 'none';\n",
              "\n",
              "        async function convertToInteractive(key) {\n",
              "          const element = document.querySelector('#df-fc21c71c-daa1-4a58-8224-29c466c3ab49');\n",
              "          const dataTable =\n",
              "            await google.colab.kernel.invokeFunction('convertToInteractive',\n",
              "                                                     [key], {});\n",
              "          if (!dataTable) return;\n",
              "\n",
              "          const docLinkHtml = 'Like what you see? Visit the ' +\n",
              "            '<a target=\"_blank\" href=https://colab.research.google.com/notebooks/data_table.ipynb>data table notebook</a>'\n",
              "            + ' to learn more about interactive tables.';\n",
              "          element.innerHTML = '';\n",
              "          dataTable['output_type'] = 'display_data';\n",
              "          await google.colab.output.renderOutput(dataTable, element);\n",
              "          const docLink = document.createElement('div');\n",
              "          docLink.innerHTML = docLinkHtml;\n",
              "          element.appendChild(docLink);\n",
              "        }\n",
              "      </script>\n",
              "    </div>\n",
              "  </div>\n",
              "  "
            ]
          },
          "metadata": {},
          "execution_count": 46
        }
      ]
    },
    {
      "cell_type": "code",
      "source": [
        "count = CountVectorizer(stop_words='english')\n",
        "count_X = count.fit_transform(df['features'])"
      ],
      "metadata": {
        "id": "XdTYS6Wy18De"
      },
      "execution_count": 51,
      "outputs": []
    },
    {
      "cell_type": "code",
      "source": [
        "cosine_similarity2 = cosine_similarity(count_X, count_X)"
      ],
      "metadata": {
        "id": "6CjxfftN4DxV"
      },
      "execution_count": 54,
      "outputs": []
    },
    {
      "cell_type": "code",
      "source": [
        "df = df.reset_index()\n",
        "food_items = pd.Series(df.index, index=df['Name'])"
      ],
      "metadata": {
        "id": "8WpB6tRM4ejr"
      },
      "execution_count": 56,
      "outputs": []
    },
    {
      "cell_type": "code",
      "source": [
        "display(food_items)"
      ],
      "metadata": {
        "colab": {
          "base_uri": "https://localhost:8080/",
          "height": 243
        },
        "id": "tGgsJ70c5YF7",
        "outputId": "d3a6ab84-5767-4c00-a307-cc45bfa9ab73"
      },
      "execution_count": 57,
      "outputs": [
        {
          "output_type": "display_data",
          "data": {
            "text/plain": [
              "Name\n",
              "summer squash salad                                          0\n",
              "chicken minced salad                                         1\n",
              "sweet chilli almonds                                         2\n",
              "tricolour salad                                              3\n",
              "christmas cake                                               4\n",
              "                                                          ... \n",
              "Kimchi Toast                                               395\n",
              "Tacos de Gobernador (Shrimp, Poblano, and Cheese Tacos)    396\n",
              "Melted Broccoli Pasta With Capers and Anchovies            397\n",
              "Lemon-Ginger Cake with Pistachios                          398\n",
              "Rosemary Roasted Vegetables                                399\n",
              "Length: 400, dtype: int64"
            ]
          },
          "metadata": {}
        }
      ]
    },
    {
      "cell_type": "code",
      "source": [
        "food_recommendations('tricolour salad', cosine_similarity2)"
      ],
      "metadata": {
        "colab": {
          "base_uri": "https://localhost:8080/"
        },
        "id": "YtE3aZhF5coZ",
        "outputId": "d2475411-946b-460d-bc59-9ebecd3bd745"
      },
      "execution_count": 58,
      "outputs": [
        {
          "output_type": "execute_result",
          "data": {
            "text/plain": [
              "1                         chicken minced salad\n",
              "103                             chilli chicken\n",
              "27                     vegetable som tam salad\n",
              "177                        oats shallots pulao\n",
              "69     shepherds salad (tamatar-kheera salaad)\n",
              "Name: Name, dtype: object"
            ]
          },
          "metadata": {},
          "execution_count": 58
        }
      ]
    }
  ]
}